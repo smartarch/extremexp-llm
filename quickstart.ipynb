{
 "cells": [
  {
   "cell_type": "code",
   "execution_count": 23,
   "id": "initial_id",
   "metadata": {
    "ExecuteTime": {
     "end_time": "2024-02-12T12:57:00.011760727Z",
     "start_time": "2024-02-12T12:56:59.986387434Z"
    },
    "collapsed": true
   },
   "outputs": [
    {
     "data": {
      "text/plain": [
       "True"
      ]
     },
     "execution_count": 23,
     "metadata": {},
     "output_type": "execute_result"
    }
   ],
   "source": [
    "from dotenv import load_dotenv, find_dotenv\n",
    "load_dotenv(find_dotenv(), override=True)  # take environment variables from .env."
   ]
  },
  {
   "cell_type": "markdown",
   "id": "ceef8075",
   "metadata": {},
   "source": [
    "# Ollama\n",
    "\n",
    "Local LLM, download from [ollama.com](https://ollama.com/download/linux)."
   ]
  },
  {
   "cell_type": "code",
   "execution_count": 4,
   "id": "231b03d5",
   "metadata": {},
   "outputs": [],
   "source": [
    "from langchain_community.llms import Ollama\n",
    "llm_llama = Ollama(model=\"llama2\")"
   ]
  },
  {
   "cell_type": "code",
   "execution_count": 12,
   "id": "dedba3d3",
   "metadata": {},
   "outputs": [
    {
     "name": "stdout",
     "output_type": "stream",
     "text": [
      "\n",
      "Why was the math book sad? Because it had too many problems! 😂\n"
     ]
    }
   ],
   "source": [
    "response = llm_llama.invoke(\"Tell me a joke\")\n",
    "print(response)"
   ]
  },
  {
   "cell_type": "code",
   "execution_count": 7,
   "id": "ba5e428a",
   "metadata": {},
   "outputs": [
    {
     "name": "stdout",
     "output_type": "stream",
     "text": [
      "Why did the scarecrow win an award? Because he was outstanding in his field! 😄"
     ]
    }
   ],
   "source": [
    "for chunk in llm_llama.stream(\"Tell me a joke\"):\n",
    "    print(chunk, end=\"\", flush=True)"
   ]
  },
  {
   "cell_type": "code",
   "execution_count": 4,
   "id": "07086400",
   "metadata": {},
   "outputs": [],
   "source": [
    "from langchain_core.prompts import ChatPromptTemplate\n",
    "\n",
    "prompt = ChatPromptTemplate.from_messages([\n",
    "    (\"system\", \"When asked to tell a joke, only tell the joke and nothing else (no introduction, etc.).\"),\n",
    "    (\"user\", \"Tell me a joke about {input}\")\n",
    "])"
   ]
  },
  {
   "cell_type": "code",
   "execution_count": 3,
   "id": "299deaef",
   "metadata": {},
   "outputs": [],
   "source": [
    "from langchain_core.output_parsers import StrOutputParser\n",
    "\n",
    "output_parser = StrOutputParser()  # The output of LLM will be a `message` -> parse it to a string"
   ]
  },
  {
   "cell_type": "code",
   "execution_count": 35,
   "id": "d3642cfb",
   "metadata": {},
   "outputs": [],
   "source": [
    "chain_llama = prompt | llm_llama | output_parser"
   ]
  },
  {
   "cell_type": "code",
   "execution_count": 39,
   "id": "56fa104c",
   "metadata": {},
   "outputs": [
    {
     "name": "stdout",
     "output_type": "stream",
     "text": [
      "Sure! Here's a joke for you:\n",
      "\n",
      "Why do programmers prefer dark mode?\n",
      "\n",
      "Because light attracts bugs.\n"
     ]
    }
   ],
   "source": [
    "response = chain_llama.invoke({\"input\": \"programmers\"})\n",
    "print(response)"
   ]
  },
  {
   "cell_type": "code",
   "execution_count": 38,
   "id": "b0d874cd",
   "metadata": {},
   "outputs": [
    {
     "name": "stdout",
     "output_type": "stream",
     "text": [
      "Why did the programmer break up with his girlfriend?\n",
      "She kept trying to fix her own problems, but he couldn't compile a solution."
     ]
    }
   ],
   "source": [
    "for chunk in chain_llama.stream({\"input\": \"programmers\"}):\n",
    "    print(chunk, end=\"\", flush=True)"
   ]
  },
  {
   "cell_type": "markdown",
   "id": "538a9fcd",
   "metadata": {},
   "source": [
    "# OpenAI\n",
    "\n",
    "Create a key (<https://platform.openai.com/api-keys>) and set it in `.env`"
   ]
  },
  {
   "cell_type": "code",
   "execution_count": 9,
   "id": "751b3cc5",
   "metadata": {},
   "outputs": [],
   "source": [
    "from langchain_openai import ChatOpenAI\n",
    "from langchain.callbacks import get_openai_callback\n",
    "\n",
    "llm_openai = ChatOpenAI(model=\"gpt-3.5-turbo\")\n",
    "chain_openai = prompt | llm_openai | output_parser"
   ]
  },
  {
   "cell_type": "code",
   "execution_count": 22,
   "id": "293a2bfb",
   "metadata": {},
   "outputs": [
    {
     "name": "stdout",
     "output_type": "stream",
     "text": [
      "Why do programmers prefer dark mode? \n",
      "\n",
      "Because light attracts bugs!\n",
      "\n",
      "\n",
      "Tokens Used: 50\n",
      "\tPrompt Tokens: 37\n",
      "\tCompletion Tokens: 13\n",
      "Successful Requests: 1\n",
      "Total Cost (USD): $8.15e-05\n"
     ]
    }
   ],
   "source": [
    "with get_openai_callback() as token_usage:\n",
    "    \n",
    "    response = chain_openai.invoke({\"input\": \"programmers\"})\n",
    "    print(response)\n",
    "\n",
    "    print(\"\\n\")\n",
    "    print(token_usage)"
   ]
  },
  {
   "cell_type": "code",
   "execution_count": 11,
   "id": "d4c955c0",
   "metadata": {},
   "outputs": [
    {
     "name": "stdout",
     "output_type": "stream",
     "text": [
      "Why do programmers prefer dark mode?\n",
      "\n",
      "Because light attracts bugs.\n",
      "\n",
      "Tokens Used: 0\n",
      "\tPrompt Tokens: 0\n",
      "\tCompletion Tokens: 0\n",
      "Successful Requests: 0\n",
      "Total Cost (USD): $0.0\n"
     ]
    }
   ],
   "source": [
    "with get_openai_callback() as token_usage:\n",
    "    \n",
    "    for chunk in chain_openai.stream({\"input\": \"programmers\"}):\n",
    "        print(chunk, end=\"\", flush=True)\n",
    "\n",
    "    print(\"\\n\")\n",
    "    # apparently, token counting does not work with streaming\n",
    "    print(token_usage)"
   ]
  }
 ],
 "metadata": {
  "kernelspec": {
   "display_name": "Python 3",
   "language": "python",
   "name": "python3"
  },
  "language_info": {
   "codemirror_mode": {
    "name": "ipython",
    "version": 3
   },
   "file_extension": ".py",
   "mimetype": "text/x-python",
   "name": "python",
   "nbconvert_exporter": "python",
   "pygments_lexer": "ipython3",
   "version": "3.10.12"
  }
 },
 "nbformat": 4,
 "nbformat_minor": 5
}
